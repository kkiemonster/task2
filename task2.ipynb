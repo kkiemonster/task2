{
  "nbformat": 4,
  "nbformat_minor": 0,
  "metadata": {
    "colab": {
      "provenance": []
    },
    "kernelspec": {
      "name": "python3",
      "display_name": "Python 3"
    },
    "language_info": {
      "name": "python"
    }
  },
  "cells": [
    {
      "cell_type": "code",
      "execution_count": null,
      "metadata": {
        "id": "AMrkYZTkK7FL"
      },
      "outputs": [],
      "source": [
        "import pandas as pd\n"
      ]
    },
    {
      "cell_type": "code",
      "source": [
        "file_path = '/content/heart_failure_clinical_records_dataset.csv'\n",
        "df = pd.read_csv(file_path)"
      ],
      "metadata": {
        "id": "ruhY_pMBLFGX"
      },
      "execution_count": null,
      "outputs": []
    },
    {
      "cell_type": "code",
      "source": [
        "# Display the first few rows of the DataFrame\n",
        "print(\"Initial DataFrame:\")\n",
        "print(df.head())\n",
        "\n",
        "# Filter data based on conditions (example: filter rows where 'age' > 30)\n",
        "filtered_df = df[df['age'] > 30]\n",
        "\n",
        "print(\"\\nFiltered DataFrame (age > 30):\")\n",
        "print(filtered_df.head())\n"
      ],
      "metadata": {
        "colab": {
          "base_uri": "https://localhost:8080/"
        },
        "id": "s-F5QvggLmhN",
        "outputId": "084cad0c-5e95-4d76-bffe-cfa80880aa90"
      },
      "execution_count": null,
      "outputs": [
        {
          "output_type": "stream",
          "name": "stdout",
          "text": [
            "Initial DataFrame:\n",
            "    age  anaemia  creatinine_phosphokinase  diabetes  ejection_fraction  \\\n",
            "0  75.0        0                       582         0                 20   \n",
            "1  55.0        0                      7861         0                 38   \n",
            "2  65.0        0                       146         0                 20   \n",
            "3  50.0        1                       111         0                 20   \n",
            "4  65.0        1                       160         1                 20   \n",
            "\n",
            "   high_blood_pressure  platelets  serum_creatinine  serum_sodium  sex  \\\n",
            "0                    1  265000.00               1.9           130    1   \n",
            "1                    0  263358.03               1.1           136    1   \n",
            "2                    0  162000.00               1.3           129    1   \n",
            "3                    0  210000.00               1.9           137    1   \n",
            "4                    0  327000.00               2.7           116    0   \n",
            "\n",
            "   smoking  time  DEATH_EVENT  \n",
            "0        0     4            1  \n",
            "1        0     6            1  \n",
            "2        1     7            1  \n",
            "3        0     7            1  \n",
            "4        0     8            1  \n",
            "\n",
            "Filtered DataFrame (age > 30):\n",
            "    age  anaemia  creatinine_phosphokinase  diabetes  ejection_fraction  \\\n",
            "0  75.0        0                       582         0                 20   \n",
            "1  55.0        0                      7861         0                 38   \n",
            "2  65.0        0                       146         0                 20   \n",
            "3  50.0        1                       111         0                 20   \n",
            "4  65.0        1                       160         1                 20   \n",
            "\n",
            "   high_blood_pressure  platelets  serum_creatinine  serum_sodium  sex  \\\n",
            "0                    1  265000.00               1.9           130    1   \n",
            "1                    0  263358.03               1.1           136    1   \n",
            "2                    0  162000.00               1.3           129    1   \n",
            "3                    0  210000.00               1.9           137    1   \n",
            "4                    0  327000.00               2.7           116    0   \n",
            "\n",
            "   smoking  time  DEATH_EVENT  \n",
            "0        0     4            1  \n",
            "1        0     6            1  \n",
            "2        1     7            1  \n",
            "3        0     7            1  \n",
            "4        0     8            1  \n"
          ]
        }
      ]
    },
    {
      "cell_type": "code",
      "source": [
        "# Handle missing values\n",
        "# Option 1: Drop rows with any missing values\n",
        "df_dropped = df.dropna()\n",
        "\n",
        "print(\"\\nDataFrame after dropping rows with any missing values:\")\n",
        "print(df_dropped.head())\n",
        "\n",
        "# Option 2: Fill missing values with a specific value (example: fill with 0)\n",
        "df_filled = df.fillna(0)\n",
        "\n",
        "print(\"\\nDataFrame after filling missing values with 0:\")\n",
        "print(df_filled.head())\n",
        "\n",
        "# Option 3: Fill missing values with the mean of the column (example: for 'age' column)\n",
        "df['age'].fillna(df['age'].mean(), inplace=True)\n",
        "\n",
        "print(\"\\nDataFrame after filling missing values in 'age' column with mean:\")\n",
        "print(df.head())\n"
      ],
      "metadata": {
        "colab": {
          "base_uri": "https://localhost:8080/"
        },
        "id": "lNywZPsRLq6-",
        "outputId": "b31fa784-c715-4b62-a99c-baab252c4b3a"
      },
      "execution_count": null,
      "outputs": [
        {
          "output_type": "stream",
          "name": "stdout",
          "text": [
            "\n",
            "DataFrame after dropping rows with any missing values:\n",
            "    age  anaemia  creatinine_phosphokinase  diabetes  ejection_fraction  \\\n",
            "0  75.0        0                       582         0                 20   \n",
            "1  55.0        0                      7861         0                 38   \n",
            "2  65.0        0                       146         0                 20   \n",
            "3  50.0        1                       111         0                 20   \n",
            "4  65.0        1                       160         1                 20   \n",
            "\n",
            "   high_blood_pressure  platelets  serum_creatinine  serum_sodium  sex  \\\n",
            "0                    1  265000.00               1.9           130    1   \n",
            "1                    0  263358.03               1.1           136    1   \n",
            "2                    0  162000.00               1.3           129    1   \n",
            "3                    0  210000.00               1.9           137    1   \n",
            "4                    0  327000.00               2.7           116    0   \n",
            "\n",
            "   smoking  time  DEATH_EVENT  \n",
            "0        0     4            1  \n",
            "1        0     6            1  \n",
            "2        1     7            1  \n",
            "3        0     7            1  \n",
            "4        0     8            1  \n",
            "\n",
            "DataFrame after filling missing values with 0:\n",
            "    age  anaemia  creatinine_phosphokinase  diabetes  ejection_fraction  \\\n",
            "0  75.0        0                       582         0                 20   \n",
            "1  55.0        0                      7861         0                 38   \n",
            "2  65.0        0                       146         0                 20   \n",
            "3  50.0        1                       111         0                 20   \n",
            "4  65.0        1                       160         1                 20   \n",
            "\n",
            "   high_blood_pressure  platelets  serum_creatinine  serum_sodium  sex  \\\n",
            "0                    1  265000.00               1.9           130    1   \n",
            "1                    0  263358.03               1.1           136    1   \n",
            "2                    0  162000.00               1.3           129    1   \n",
            "3                    0  210000.00               1.9           137    1   \n",
            "4                    0  327000.00               2.7           116    0   \n",
            "\n",
            "   smoking  time  DEATH_EVENT  \n",
            "0        0     4            1  \n",
            "1        0     6            1  \n",
            "2        1     7            1  \n",
            "3        0     7            1  \n",
            "4        0     8            1  \n",
            "\n",
            "DataFrame after filling missing values in 'age' column with mean:\n",
            "    age  anaemia  creatinine_phosphokinase  diabetes  ejection_fraction  \\\n",
            "0  75.0        0                       582         0                 20   \n",
            "1  55.0        0                      7861         0                 38   \n",
            "2  65.0        0                       146         0                 20   \n",
            "3  50.0        1                       111         0                 20   \n",
            "4  65.0        1                       160         1                 20   \n",
            "\n",
            "   high_blood_pressure  platelets  serum_creatinine  serum_sodium  sex  \\\n",
            "0                    1  265000.00               1.9           130    1   \n",
            "1                    0  263358.03               1.1           136    1   \n",
            "2                    0  162000.00               1.3           129    1   \n",
            "3                    0  210000.00               1.9           137    1   \n",
            "4                    0  327000.00               2.7           116    0   \n",
            "\n",
            "   smoking  time  DEATH_EVENT  \n",
            "0        0     4            1  \n",
            "1        0     6            1  \n",
            "2        1     7            1  \n",
            "3        0     7            1  \n",
            "4        0     8            1  \n"
          ]
        }
      ]
    },
    {
      "cell_type": "code",
      "source": [
        "# Calculate summary statistics\n",
        "summary_stats = df.describe()\n",
        "\n",
        "print(\"\\nSummary Statistics:\")\n",
        "print(summary_stats)"
      ],
      "metadata": {
        "colab": {
          "base_uri": "https://localhost:8080/"
        },
        "id": "XBn7d4O2Lu8P",
        "outputId": "d6588562-84da-44cf-d39e-bbb09fd3c5c7"
      },
      "execution_count": null,
      "outputs": [
        {
          "output_type": "stream",
          "name": "stdout",
          "text": [
            "\n",
            "Summary Statistics:\n",
            "              age     anaemia  creatinine_phosphokinase    diabetes  \\\n",
            "count  299.000000  299.000000                299.000000  299.000000   \n",
            "mean    60.833893    0.431438                581.839465    0.418060   \n",
            "std     11.894809    0.496107                970.287881    0.494067   \n",
            "min     40.000000    0.000000                 23.000000    0.000000   \n",
            "25%     51.000000    0.000000                116.500000    0.000000   \n",
            "50%     60.000000    0.000000                250.000000    0.000000   \n",
            "75%     70.000000    1.000000                582.000000    1.000000   \n",
            "max     95.000000    1.000000               7861.000000    1.000000   \n",
            "\n",
            "       ejection_fraction  high_blood_pressure      platelets  \\\n",
            "count         299.000000           299.000000     299.000000   \n",
            "mean           38.083612             0.351171  263358.029264   \n",
            "std            11.834841             0.478136   97804.236869   \n",
            "min            14.000000             0.000000   25100.000000   \n",
            "25%            30.000000             0.000000  212500.000000   \n",
            "50%            38.000000             0.000000  262000.000000   \n",
            "75%            45.000000             1.000000  303500.000000   \n",
            "max            80.000000             1.000000  850000.000000   \n",
            "\n",
            "       serum_creatinine  serum_sodium         sex    smoking        time  \\\n",
            "count         299.00000    299.000000  299.000000  299.00000  299.000000   \n",
            "mean            1.39388    136.625418    0.648829    0.32107  130.260870   \n",
            "std             1.03451      4.412477    0.478136    0.46767   77.614208   \n",
            "min             0.50000    113.000000    0.000000    0.00000    4.000000   \n",
            "25%             0.90000    134.000000    0.000000    0.00000   73.000000   \n",
            "50%             1.10000    137.000000    1.000000    0.00000  115.000000   \n",
            "75%             1.40000    140.000000    1.000000    1.00000  203.000000   \n",
            "max             9.40000    148.000000    1.000000    1.00000  285.000000   \n",
            "\n",
            "       DEATH_EVENT  \n",
            "count    299.00000  \n",
            "mean       0.32107  \n",
            "std        0.46767  \n",
            "min        0.00000  \n",
            "25%        0.00000  \n",
            "50%        0.00000  \n",
            "75%        1.00000  \n",
            "max        1.00000  \n"
          ]
        }
      ]
    },
    {
      "cell_type": "code",
      "source": [
        "# Additional operations (example: adding a new column 'age_group' based on 'age')\n",
        "df['age_group'] = pd.cut(df['age'], bins=[0, 18, 35, 50, 100], labels=['Child', 'Young Adult', 'Adult', 'Senior'])\n",
        "\n",
        "print(\"\\nDataFrame with new 'age_group' column:\")\n",
        "print(df.head())"
      ],
      "metadata": {
        "id": "CHxY8RfWLx0L",
        "outputId": "a0c6f3e1-20fc-450c-90bf-5f647abb1c01",
        "colab": {
          "base_uri": "https://localhost:8080/"
        }
      },
      "execution_count": null,
      "outputs": [
        {
          "output_type": "stream",
          "name": "stdout",
          "text": [
            "\n",
            "DataFrame with new 'age_group' column:\n",
            "    age  anaemia  creatinine_phosphokinase  diabetes  ejection_fraction  \\\n",
            "0  75.0        0                       582         0                 20   \n",
            "1  55.0        0                      7861         0                 38   \n",
            "2  65.0        0                       146         0                 20   \n",
            "3  50.0        1                       111         0                 20   \n",
            "4  65.0        1                       160         1                 20   \n",
            "\n",
            "   high_blood_pressure  platelets  serum_creatinine  serum_sodium  sex  \\\n",
            "0                    1  265000.00               1.9           130    1   \n",
            "1                    0  263358.03               1.1           136    1   \n",
            "2                    0  162000.00               1.3           129    1   \n",
            "3                    0  210000.00               1.9           137    1   \n",
            "4                    0  327000.00               2.7           116    0   \n",
            "\n",
            "   smoking  time  DEATH_EVENT age_group  \n",
            "0        0     4            1    Senior  \n",
            "1        0     6            1    Senior  \n",
            "2        1     7            1    Senior  \n",
            "3        0     7            1     Adult  \n",
            "4        0     8            1    Senior  \n"
          ]
        }
      ]
    },
    {
      "cell_type": "code",
      "source": [],
      "metadata": {
        "id": "X7GMn0_eL0en"
      },
      "execution_count": null,
      "outputs": []
    }
  ]
}